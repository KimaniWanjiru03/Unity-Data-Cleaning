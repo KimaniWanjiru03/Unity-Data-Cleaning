{
 "cells": [
  {
   "cell_type": "code",
   "execution_count": 1,
   "id": "45a442f3-8e56-4fe9-ad28-76da430af0f5",
   "metadata": {},
   "outputs": [
    {
     "name": "stdout",
     "output_type": "stream",
     "text": [
      "Python version\n",
      "3.10.8 (main, Sep 13 2023, 16:52:46) [GCC 9.4.0]\n"
     ]
    }
   ],
   "source": [
    "import sys\n",
    "print(\"Python version\")\n",
    "print(sys.version)"
   ]
  },
  {
   "cell_type": "code",
   "execution_count": 2,
   "id": "209c41c7-f919-4b79-b002-86708902ec9e",
   "metadata": {},
   "outputs": [
    {
     "name": "stdout",
     "output_type": "stream",
     "text": [
      "Pandas version\n",
      "2.1.0\n"
     ]
    }
   ],
   "source": [
    "import pandas as pd\n",
    "print(\"Pandas version\")\n",
    "print(pd.__version__)"
   ]
  },
  {
   "cell_type": "code",
   "execution_count": 3,
   "id": "13b1d9dc",
   "metadata": {},
   "outputs": [
    {
     "name": "stdout",
     "output_type": "stream",
     "text": [
      "Requirement already satisfied: openpyxl in /usr/local/python/3.10.8/lib/python3.10/site-packages (3.1.2)\n",
      "Requirement already satisfied: et-xmlfile in /usr/local/python/3.10.8/lib/python3.10/site-packages (from openpyxl) (1.1.0)\n",
      "Note: you may need to restart the kernel to use updated packages.\n"
     ]
    }
   ],
   "source": [
    "%pip install openpyxl"
   ]
  },
  {
   "cell_type": "code",
   "execution_count": 3,
   "id": "e285a931-03bd-4a92-affe-f1f021d07513",
   "metadata": {},
   "outputs": [],
   "source": [
    "file_path = \"Unity Clumpsy.xlsx\""
   ]
  },
  {
   "cell_type": "code",
   "execution_count": 5,
   "id": "9b8a5dbf-4381-46ce-9d9a-aab92c14b591",
   "metadata": {},
   "outputs": [
    {
     "ename": "FileNotFoundError",
     "evalue": "[Errno 2] No such file or directory: 'Unity Clumpsy.xlsx'",
     "output_type": "error",
     "traceback": [
      "\u001b[0;31m---------------------------------------------------------------------------\u001b[0m",
      "\u001b[0;31mFileNotFoundError\u001b[0m                         Traceback (most recent call last)",
      "\u001b[1;32mc:/Users/HP/Desktop/AHEEN-UNHCR/LWF/Imma.ipynb Cell 5\u001b[0m line \u001b[0;36m1\n\u001b[0;32m----> <a href='vscode-notebook-cell:/c%3A/Users/HP/Desktop/AHEEN-UNHCR/LWF/Imma.ipynb#W4sZmlsZQ%3D%3D?line=0'>1</a>\u001b[0m xls \u001b[39m=\u001b[39m pd\u001b[39m.\u001b[39;49mExcelFile(file_path)\n\u001b[1;32m      <a href='vscode-notebook-cell:/c%3A/Users/HP/Desktop/AHEEN-UNHCR/LWF/Imma.ipynb#W4sZmlsZQ%3D%3D?line=1'>2</a>\u001b[0m sheet_names \u001b[39m=\u001b[39m xls\u001b[39m.\u001b[39msheet_names\n\u001b[1;32m      <a href='vscode-notebook-cell:/c%3A/Users/HP/Desktop/AHEEN-UNHCR/LWF/Imma.ipynb#W4sZmlsZQ%3D%3D?line=2'>3</a>\u001b[0m sheet_names\n",
      "File \u001b[0;32m~/.local/lib/python3.10/site-packages/pandas/io/excel/_base.py:1563\u001b[0m, in \u001b[0;36mExcelFile.__init__\u001b[0;34m(self, path_or_buffer, engine, storage_options, engine_kwargs)\u001b[0m\n\u001b[1;32m   1561\u001b[0m     ext \u001b[39m=\u001b[39m \u001b[39m\"\u001b[39m\u001b[39mxls\u001b[39m\u001b[39m\"\u001b[39m\n\u001b[1;32m   1562\u001b[0m \u001b[39melse\u001b[39;00m:\n\u001b[0;32m-> 1563\u001b[0m     ext \u001b[39m=\u001b[39m inspect_excel_format(\n\u001b[1;32m   1564\u001b[0m         content_or_path\u001b[39m=\u001b[39;49mpath_or_buffer, storage_options\u001b[39m=\u001b[39;49mstorage_options\n\u001b[1;32m   1565\u001b[0m     )\n\u001b[1;32m   1566\u001b[0m     \u001b[39mif\u001b[39;00m ext \u001b[39mis\u001b[39;00m \u001b[39mNone\u001b[39;00m:\n\u001b[1;32m   1567\u001b[0m         \u001b[39mraise\u001b[39;00m \u001b[39mValueError\u001b[39;00m(\n\u001b[1;32m   1568\u001b[0m             \u001b[39m\"\u001b[39m\u001b[39mExcel file format cannot be determined, you must specify \u001b[39m\u001b[39m\"\u001b[39m\n\u001b[1;32m   1569\u001b[0m             \u001b[39m\"\u001b[39m\u001b[39man engine manually.\u001b[39m\u001b[39m\"\u001b[39m\n\u001b[1;32m   1570\u001b[0m         )\n",
      "File \u001b[0;32m~/.local/lib/python3.10/site-packages/pandas/io/excel/_base.py:1419\u001b[0m, in \u001b[0;36minspect_excel_format\u001b[0;34m(content_or_path, storage_options)\u001b[0m\n\u001b[1;32m   1416\u001b[0m \u001b[39mif\u001b[39;00m \u001b[39misinstance\u001b[39m(content_or_path, \u001b[39mbytes\u001b[39m):\n\u001b[1;32m   1417\u001b[0m     content_or_path \u001b[39m=\u001b[39m BytesIO(content_or_path)\n\u001b[0;32m-> 1419\u001b[0m \u001b[39mwith\u001b[39;00m get_handle(\n\u001b[1;32m   1420\u001b[0m     content_or_path, \u001b[39m\"\u001b[39;49m\u001b[39mrb\u001b[39;49m\u001b[39m\"\u001b[39;49m, storage_options\u001b[39m=\u001b[39;49mstorage_options, is_text\u001b[39m=\u001b[39;49m\u001b[39mFalse\u001b[39;49;00m\n\u001b[1;32m   1421\u001b[0m ) \u001b[39mas\u001b[39;00m handle:\n\u001b[1;32m   1422\u001b[0m     stream \u001b[39m=\u001b[39m handle\u001b[39m.\u001b[39mhandle\n\u001b[1;32m   1423\u001b[0m     stream\u001b[39m.\u001b[39mseek(\u001b[39m0\u001b[39m)\n",
      "File \u001b[0;32m~/.local/lib/python3.10/site-packages/pandas/io/common.py:872\u001b[0m, in \u001b[0;36mget_handle\u001b[0;34m(path_or_buf, mode, encoding, compression, memory_map, is_text, errors, storage_options)\u001b[0m\n\u001b[1;32m    863\u001b[0m         handle \u001b[39m=\u001b[39m \u001b[39mopen\u001b[39m(\n\u001b[1;32m    864\u001b[0m             handle,\n\u001b[1;32m    865\u001b[0m             ioargs\u001b[39m.\u001b[39mmode,\n\u001b[0;32m   (...)\u001b[0m\n\u001b[1;32m    868\u001b[0m             newline\u001b[39m=\u001b[39m\u001b[39m\"\u001b[39m\u001b[39m\"\u001b[39m,\n\u001b[1;32m    869\u001b[0m         )\n\u001b[1;32m    870\u001b[0m     \u001b[39melse\u001b[39;00m:\n\u001b[1;32m    871\u001b[0m         \u001b[39m# Binary mode\u001b[39;00m\n\u001b[0;32m--> 872\u001b[0m         handle \u001b[39m=\u001b[39m \u001b[39mopen\u001b[39;49m(handle, ioargs\u001b[39m.\u001b[39;49mmode)\n\u001b[1;32m    873\u001b[0m     handles\u001b[39m.\u001b[39mappend(handle)\n\u001b[1;32m    875\u001b[0m \u001b[39m# Convert BytesIO or file objects passed with an encoding\u001b[39;00m\n",
      "\u001b[0;31mFileNotFoundError\u001b[0m: [Errno 2] No such file or directory: 'Unity Clumpsy.xlsx'"
     ]
    }
   ],
   "source": [
    "xls = pd.ExcelFile(file_path)\n",
    "sheet_names = xls.sheet_names\n",
    "sheet_names"
   ]
  },
  {
   "cell_type": "code",
   "execution_count": 5,
   "id": "ea1cc38a-fbee-4186-9e62-adfc1922a701",
   "metadata": {},
   "outputs": [],
   "source": [
    "data = {}\n",
    "for sheet_name in sheet_names:\n",
    "    data[sheet_name] = pd.read_excel(file_path, sheet_name=sheet_name)"
   ]
  },
  {
   "cell_type": "code",
   "execution_count": 6,
   "id": "95221d88-5088-4d41-8d4f-fd5f5dc1f033",
   "metadata": {},
   "outputs": [
    {
     "data": {
      "text/html": [
       "<div>\n",
       "<style scoped>\n",
       "    .dataframe tbody tr th:only-of-type {\n",
       "        vertical-align: middle;\n",
       "    }\n",
       "\n",
       "    .dataframe tbody tr th {\n",
       "        vertical-align: top;\n",
       "    }\n",
       "\n",
       "    .dataframe thead th {\n",
       "        text-align: right;\n",
       "    }\n",
       "</style>\n",
       "<table border=\"1\" class=\"dataframe\">\n",
       "  <thead>\n",
       "    <tr style=\"text-align: right;\">\n",
       "      <th></th>\n",
       "      <th>School Name</th>\n",
       "      <th>First Name</th>\n",
       "      <th>Surname</th>\n",
       "      <th>Third name</th>\n",
       "      <th>Admission Number</th>\n",
       "      <th>Gender</th>\n",
       "      <th>Status</th>\n",
       "      <th>Nationality</th>\n",
       "      <th>Other nationality</th>\n",
       "      <th>Birth Certificate Number</th>\n",
       "      <th>...</th>\n",
       "      <th>Type of impairement</th>\n",
       "      <th>if other, Which other?</th>\n",
       "      <th>Date of enrolment to the school:</th>\n",
       "      <th>Please select up to 3 reasons for joining school</th>\n",
       "      <th>Other reason joining</th>\n",
       "      <th>What is the family situation? The child is:</th>\n",
       "      <th>Name of parent or guardian:</th>\n",
       "      <th>Contact of parent/guardian:</th>\n",
       "      <th>Filled in by:</th>\n",
       "      <th>Name of the person that filled this in:</th>\n",
       "    </tr>\n",
       "  </thead>\n",
       "  <tbody>\n",
       "    <tr>\n",
       "      <th>0</th>\n",
       "      <td>Kakuma refugee primary school</td>\n",
       "      <td>Chuol</td>\n",
       "      <td>Maloy</td>\n",
       "      <td>Gatwech</td>\n",
       "      <td>6002</td>\n",
       "      <td>Male</td>\n",
       "      <td>Refugee</td>\n",
       "      <td>South Sudan</td>\n",
       "      <td>NaN</td>\n",
       "      <td>84500444294</td>\n",
       "      <td>...</td>\n",
       "      <td>None</td>\n",
       "      <td>NaN</td>\n",
       "      <td>31/1/2023</td>\n",
       "      <td>Improvement in School Performance</td>\n",
       "      <td>NaN</td>\n",
       "      <td>Biological</td>\n",
       "      <td>Test chuol</td>\n",
       "      <td>798875054.0</td>\n",
       "      <td>Class Teacher</td>\n",
       "      <td>Peace Amone</td>\n",
       "    </tr>\n",
       "    <tr>\n",
       "      <th>1</th>\n",
       "      <td>Kakuma refugee primary school</td>\n",
       "      <td>Samuel</td>\n",
       "      <td>Ekai</td>\n",
       "      <td>NaN</td>\n",
       "      <td>6005</td>\n",
       "      <td>Male</td>\n",
       "      <td>Local</td>\n",
       "      <td>Kenya</td>\n",
       "      <td>NaN</td>\n",
       "      <td>Kenyan</td>\n",
       "      <td>...</td>\n",
       "      <td>None</td>\n",
       "      <td>NaN</td>\n",
       "      <td>2023-01-01 00:00:00</td>\n",
       "      <td>Community Sensitization</td>\n",
       "      <td>NaN</td>\n",
       "      <td>Biological</td>\n",
       "      <td>lomeyen</td>\n",
       "      <td>754133888.0</td>\n",
       "      <td>Class Teacher</td>\n",
       "      <td>Peace Amonr</td>\n",
       "    </tr>\n",
       "    <tr>\n",
       "      <th>2</th>\n",
       "      <td>Kakuma refugee primary school</td>\n",
       "      <td>Faustin</td>\n",
       "      <td>Mukula</td>\n",
       "      <td>Benjamin</td>\n",
       "      <td>6010</td>\n",
       "      <td>Male</td>\n",
       "      <td>Refugee</td>\n",
       "      <td>South Sudan</td>\n",
       "      <td>NaN</td>\n",
       "      <td>84500279879</td>\n",
       "      <td>...</td>\n",
       "      <td>None</td>\n",
       "      <td>NaN</td>\n",
       "      <td>13/2/2023</td>\n",
       "      <td>Improvement in School Performance</td>\n",
       "      <td>NaN</td>\n",
       "      <td>Biological</td>\n",
       "      <td>Faustin Byula Paul</td>\n",
       "      <td>NaN</td>\n",
       "      <td>Class Teacher</td>\n",
       "      <td>Peace Amone</td>\n",
       "    </tr>\n",
       "    <tr>\n",
       "      <th>3</th>\n",
       "      <td>Kakuma refugee primary school</td>\n",
       "      <td>Mama</td>\n",
       "      <td>Gurung</td>\n",
       "      <td>Jaman</td>\n",
       "      <td>6015</td>\n",
       "      <td>Male</td>\n",
       "      <td>Refugee</td>\n",
       "      <td>South Sudan</td>\n",
       "      <td>NaN</td>\n",
       "      <td>84500455765</td>\n",
       "      <td>...</td>\n",
       "      <td>None</td>\n",
       "      <td>NaN</td>\n",
       "      <td>17/2/2023</td>\n",
       "      <td>New Arrival/Returnee</td>\n",
       "      <td>NaN</td>\n",
       "      <td>Biological</td>\n",
       "      <td>Oleyo kotingo</td>\n",
       "      <td>735930972.0</td>\n",
       "      <td>Class Teacher</td>\n",
       "      <td>Peace Amone</td>\n",
       "    </tr>\n",
       "    <tr>\n",
       "      <th>4</th>\n",
       "      <td>Kakuma refugee primary school</td>\n",
       "      <td>Yoal</td>\n",
       "      <td>Gieng</td>\n",
       "      <td>Ter</td>\n",
       "      <td>6020</td>\n",
       "      <td>Male</td>\n",
       "      <td>Refugee</td>\n",
       "      <td>South Sudan</td>\n",
       "      <td>NaN</td>\n",
       "      <td>84500451252</td>\n",
       "      <td>...</td>\n",
       "      <td>None</td>\n",
       "      <td>NaN</td>\n",
       "      <td>New Arrival/Returnee</td>\n",
       "      <td>Improving in school performance</td>\n",
       "      <td>NaN</td>\n",
       "      <td>Biological</td>\n",
       "      <td>Chiktok yidol</td>\n",
       "      <td>NaN</td>\n",
       "      <td>Class Teacher</td>\n",
       "      <td>peace Amone</td>\n",
       "    </tr>\n",
       "  </tbody>\n",
       "</table>\n",
       "<p>5 rows × 26 columns</p>\n",
       "</div>"
      ],
      "text/plain": [
       "                     School Name First Name Surname Third name  \\\n",
       "0  Kakuma refugee primary school      Chuol   Maloy    Gatwech   \n",
       "1  Kakuma refugee primary school     Samuel    Ekai        NaN   \n",
       "2  Kakuma refugee primary school    Faustin  Mukula   Benjamin   \n",
       "3  Kakuma refugee primary school       Mama  Gurung      Jaman   \n",
       "4  Kakuma refugee primary school       Yoal   Gieng        Ter   \n",
       "\n",
       "   Admission Number Gender   Status  Nationality  Other nationality  \\\n",
       "0              6002   Male  Refugee  South Sudan                NaN   \n",
       "1              6005   Male    Local        Kenya                NaN   \n",
       "2              6010   Male  Refugee  South Sudan                NaN   \n",
       "3              6015   Male  Refugee  South Sudan                NaN   \n",
       "4              6020   Male  Refugee  South Sudan                NaN   \n",
       "\n",
       "  Birth Certificate Number  ... Type of impairement  if other, Which other?  \\\n",
       "0              84500444294  ...                None                     NaN   \n",
       "1                   Kenyan  ...                None                     NaN   \n",
       "2              84500279879  ...                None                     NaN   \n",
       "3              84500455765  ...                None                     NaN   \n",
       "4              84500451252  ...                None                     NaN   \n",
       "\n",
       "   Date of enrolment to the school:  \\\n",
       "0                         31/1/2023   \n",
       "1               2023-01-01 00:00:00   \n",
       "2                         13/2/2023   \n",
       "3                         17/2/2023   \n",
       "4              New Arrival/Returnee   \n",
       "\n",
       "  Please select up to 3 reasons for joining school Other reason joining  \\\n",
       "0                Improvement in School Performance                  NaN   \n",
       "1                          Community Sensitization                  NaN   \n",
       "2                Improvement in School Performance                  NaN   \n",
       "3                             New Arrival/Returnee                  NaN   \n",
       "4                  Improving in school performance                  NaN   \n",
       "\n",
       "   What is the family situation? The child is: Name of parent or guardian:  \\\n",
       "0                                   Biological                  Test chuol   \n",
       "1                                   Biological                     lomeyen   \n",
       "2                                   Biological          Faustin Byula Paul   \n",
       "3                                   Biological               Oleyo kotingo   \n",
       "4                                   Biological               Chiktok yidol   \n",
       "\n",
       "   Contact of parent/guardian:   Filled in by:  \\\n",
       "0                  798875054.0   Class Teacher   \n",
       "1                  754133888.0   Class Teacher   \n",
       "2                          NaN   Class Teacher   \n",
       "3                  735930972.0   Class Teacher   \n",
       "4                          NaN   Class Teacher   \n",
       "\n",
       "  Name of the person that filled this in:  \n",
       "0                             Peace Amone  \n",
       "1                             Peace Amonr  \n",
       "2                             Peace Amone  \n",
       "3                            Peace Amone   \n",
       "4                             peace Amone  \n",
       "\n",
       "[5 rows x 26 columns]"
      ]
     },
     "execution_count": 6,
     "metadata": {},
     "output_type": "execute_result"
    }
   ],
   "source": [
    "data['LEVEL_1'].head()"
   ]
  },
  {
   "cell_type": "code",
   "execution_count": null,
   "id": "125f19d1-3ce3-43ce-b36c-cf7794211f6a",
   "metadata": {},
   "outputs": [],
   "source": []
  }
 ],
 "metadata": {
  "kernelspec": {
   "display_name": "Python 3 (ipykernel)",
   "language": "python",
   "name": "python3"
  },
  "language_info": {
   "codemirror_mode": {
    "name": "ipython",
    "version": 3
   },
   "file_extension": ".py",
   "mimetype": "text/x-python",
   "name": "python",
   "nbconvert_exporter": "python",
   "pygments_lexer": "ipython3",
   "version": "3.10.8"
  }
 },
 "nbformat": 4,
 "nbformat_minor": 5
}
